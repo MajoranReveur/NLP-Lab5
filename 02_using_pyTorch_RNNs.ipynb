{
 "cells": [
  {
   "cell_type": "markdown",
   "id": "97cf9568-cd60-4dc6-aaa8-096ee6e0156e",
   "metadata": {},
   "source": [
    "# Using pyTorch implementation\n",
    "\n",
    "In this second part, we use pyTorch's implementation of RNNs and LSTMs. Again, as we are focusing on understanding the model and library, we will keep using the IMDB dataset. The good news is training is much faster using pyTorch's implementations."
   ]
  },
  {
   "cell_type": "code",
   "execution_count": 1,
   "id": "3b1e8f1e",
   "metadata": {
    "ExecuteTime": {
     "end_time": "2023-05-18T13:44:51.030040Z",
     "start_time": "2023-05-18T13:44:49.187613Z"
    }
   },
   "outputs": [],
   "source": [
    "from typing import Callable, List, Tuple, Generator\n",
    "from functools import partial\n",
    "import numpy as np\n",
    "from datasets import load_dataset\n",
    "from sklearn.utils import shuffle\n",
    "import torch\n",
    "from torch import nn\n",
    "from torchtext.vocab import Vocab, build_vocab_from_iterator\n",
    "from torchtext.data.utils import get_tokenizer\n",
    "\n",
    "from tqdm.auto import tqdm\n",
    "import torch.nn.functional as F"
   ]
  },
  {
   "cell_type": "markdown",
   "id": "9bcc80f0-e4e1-4ba3-bbda-582167fb43dc",
   "metadata": {},
   "source": [
    "## From dataset to batch inputs\n",
    "\n",
    "You already know what to do here, it's the same as in the previous notebook."
   ]
  },
  {
   "cell_type": "code",
   "execution_count": 2,
   "id": "0c94cc79",
   "metadata": {},
   "outputs": [
    {
     "name": "stderr",
     "output_type": "stream",
     "text": [
      "Found cached dataset imdb (/Users/louis/.cache/huggingface/datasets/imdb/plain_text/1.0.0/d613c88cf8fa3bab83b4ded3713f1f74830d1100e171db75bbddb80b3345c9c0)\n"
     ]
    },
    {
     "data": {
      "application/vnd.jupyter.widget-view+json": {
       "model_id": "481d3c1218f24bf7b1aa7efcb1dce4a0",
       "version_major": 2,
       "version_minor": 0
      },
      "text/plain": [
       "  0%|          | 0/3 [00:00<?, ?it/s]"
      ]
     },
     "metadata": {},
     "output_type": "display_data"
    },
    {
     "name": "stderr",
     "output_type": "stream",
     "text": [
      "Loading cached split indices for dataset at /Users/louis/.cache/huggingface/datasets/imdb/plain_text/1.0.0/d613c88cf8fa3bab83b4ded3713f1f74830d1100e171db75bbddb80b3345c9c0/cache-5f37fd0866e4f89f.arrow and /Users/louis/.cache/huggingface/datasets/imdb/plain_text/1.0.0/d613c88cf8fa3bab83b4ded3713f1f74830d1100e171db75bbddb80b3345c9c0/cache-dd5732a0e6ac784c.arrow\n"
     ]
    },
    {
     "data": {
      "text/plain": [
       "((20000, 2), (5000, 2), (25000, 2))"
      ]
     },
     "execution_count": 2,
     "metadata": {},
     "output_type": "execute_result"
    }
   ],
   "source": [
    "dataset = load_dataset(\"imdb\")\n",
    "train_dataset = dataset[\"train\"].train_test_split(\n",
    "    stratify_by_column=\"label\", test_size=0.2, seed=42\n",
    ")\n",
    "test_df = dataset[\"test\"]\n",
    "train_df = train_dataset[\"train\"]\n",
    "valid_df = train_dataset[\"test\"]\n",
    "train_df.shape, valid_df.shape, test_df.shape"
   ]
  },
  {
   "cell_type": "code",
   "execution_count": 3,
   "id": "94468f0e",
   "metadata": {},
   "outputs": [],
   "source": [
    "tokenizer = get_tokenizer(\"basic_english\", language=\"en\")\n",
    "def yield_tokens(data_iter):\n",
    "    for doc in data_iter:\n",
    "        yield tokenizer(doc[\"text\"])\n",
    "vocabulary = build_vocab_from_iterator(yield_tokens(train_df), min_freq=1, specials=[\"<unk>\", \"<pad>\"])\n",
    "vocabulary.set_default_index(vocabulary[\"<unk>\"])"
   ]
  },
  {
   "cell_type": "code",
   "execution_count": 4,
   "id": "eea1c38f",
   "metadata": {},
   "outputs": [],
   "source": [
    "pad_token = \"<pad>\""
   ]
  },
  {
   "cell_type": "code",
   "execution_count": 5,
   "id": "47c31a43",
   "metadata": {},
   "outputs": [],
   "source": [
    "def vectorize_text(\n",
    "    text: str, vocabulary: Vocab, tokenizer: Callable[[str], List[str]]\n",
    ") -> torch.Tensor:\n",
    "    \"\"\"\n",
    "    Generate a tensor of vocabluary IDs for a given text.\n",
    "    Args:\n",
    "        text: the input text.\n",
    "        vocabulary: a Vocab objects.\n",
    "        tokenizer: a text tokenizer.\n",
    "    Returns:\n",
    "        A tensor of IDs (torch.long).\n",
    "    \"\"\"\n",
    "    return torch.tensor(vocabulary.forward(tokenizer(text)))\n"
   ]
  },
  {
   "cell_type": "code",
   "execution_count": 6,
   "id": "907b56d8",
   "metadata": {},
   "outputs": [],
   "source": [
    "text_pipeline = partial(vectorize_text, vocabulary=vocabulary, tokenizer=tokenizer)"
   ]
  },
  {
   "cell_type": "code",
   "execution_count": 7,
   "id": "66756a2f",
   "metadata": {},
   "outputs": [
    {
     "data": {
      "application/vnd.jupyter.widget-view+json": {
       "model_id": "a5f277f488434b378f1caa326b259fc0",
       "version_major": 2,
       "version_minor": 0
      },
      "text/plain": [
       "  0%|          | 0/20000 [00:00<?, ?it/s]"
      ]
     },
     "metadata": {},
     "output_type": "display_data"
    },
    {
     "data": {
      "application/vnd.jupyter.widget-view+json": {
       "model_id": "a850bb0800d3423e99d96d39c5ea9a04",
       "version_major": 2,
       "version_minor": 0
      },
      "text/plain": [
       "  0%|          | 0/5000 [00:00<?, ?it/s]"
      ]
     },
     "metadata": {},
     "output_type": "display_data"
    },
    {
     "data": {
      "application/vnd.jupyter.widget-view+json": {
       "model_id": "970b3fdcae494d8eb65b5c1e72e22dea",
       "version_major": 2,
       "version_minor": 0
      },
      "text/plain": [
       "  0%|          | 0/25000 [00:00<?, ?it/s]"
      ]
     },
     "metadata": {},
     "output_type": "display_data"
    }
   ],
   "source": [
    "X_train = [text_pipeline(text) for text in tqdm(train_df[\"text\"])]\n",
    "y_train = train_df[\"label\"]\n",
    "X_valid = [text_pipeline(text) for text in tqdm(valid_df[\"text\"])]\n",
    "y_valid = valid_df[\"label\"]\n",
    "X_test = [text_pipeline(text) for text in tqdm(test_df[\"text\"])]\n",
    "y_test = test_df[\"label\"]"
   ]
  },
  {
   "cell_type": "code",
   "execution_count": 8,
   "id": "bcfec48d",
   "metadata": {},
   "outputs": [],
   "source": [
    "def data_generator(\n",
    "    X: List[torch.tensor], y: List[int], pad_id: int, batch_size: int = 32\n",
    ") -> Generator[Tuple[torch.Tensor, torch.Tensor], None, None]:\n",
    "    \"\"\"\n",
    "    Yield batches from given input data and labels.\n",
    "    Args:\n",
    "        X: a list of tensor (input features).\n",
    "        y: the corresponding labels.\n",
    "        batch_size: the size of every batch [32].\n",
    "    Returns:\n",
    "        A tuple of tensors (features, labels).\n",
    "    \"\"\"\n",
    "    X, y = shuffle(X, y)\n",
    "    num_batches = (len(X) - 1) // batch_size + 1\n",
    "\n",
    "    for i in range(num_batches) :\n",
    "        starting_index = i * batch_size\n",
    "        ending_index = min((i + 1) * batch_size, len(X))\n",
    "        batch_X = X[starting_index:ending_index]\n",
    "        batch_Y = y[starting_index:ending_index]\n",
    "        max_len = 0\n",
    "        for line in batch_X :\n",
    "            max_len = max(max_len, len(line))\n",
    "        for j in range(len(batch_X)) :\n",
    "            len_pad = max_len - len(batch_X[j])\n",
    "            if len_pad > 0:\n",
    "                batch_X[j] = torch.cat((batch_X[j], torch.full((len_pad,), pad_id)), 0)\n",
    "        yield torch.stack(batch_X), torch.tensor(batch_Y)"
   ]
  },
  {
   "cell_type": "code",
   "execution_count": 9,
   "id": "7690f0fb",
   "metadata": {},
   "outputs": [],
   "source": [
    "train_gen = lambda: data_generator(X_train, y_train, vocabulary[pad_token])\n",
    "valid_gen = lambda: data_generator(X_valid, y_valid, vocabulary[pad_token])\n",
    "test_gen = lambda: data_generator(X_test, y_test, vocabulary[pad_token])"
   ]
  },
  {
   "cell_type": "markdown",
   "id": "061a1070",
   "metadata": {},
   "source": [
    "## The classifier\n",
    "\n",
    "The implementation behind shows how to use the [RNN](https://pytorch.org/docs/stable/generated/torch.nn.RNN.html) implementation provided by pyTorch to code a simple RNN."
   ]
  },
  {
   "cell_type": "code",
   "execution_count": 10,
   "id": "4e7bc138",
   "metadata": {},
   "outputs": [],
   "source": [
    "device = torch.device('cuda' if torch.cuda.is_available() else 'cpu')"
   ]
  },
  {
   "cell_type": "code",
   "execution_count": 11,
   "id": "3be4b1e3",
   "metadata": {},
   "outputs": [],
   "source": [
    "class RNN(nn.Module):\n",
    "    \"\"\"A simple RNN module with word embeddings.\n",
    "    \"\"\"\n",
    "    def __init__(self, vocab_size: int, embed_size: int, hidden_size: int, n_layers: int, n_outputs: int) -> None:\n",
    "        \"\"\"\n",
    "        Args:\n",
    "            vocab_size: vocabulary size.\n",
    "            embed_size: embedding dimensions.\n",
    "            hidden_size: hidden layer size.\n",
    "            n_layers: the number of layers.\n",
    "            n_outputs: the number of output classes.\n",
    "        \"\"\"\n",
    "        super().__init__()\n",
    "        self.vocab_size = vocab_size\n",
    "        self.embed_size = embed_size\n",
    "        self.hidden_size = hidden_size\n",
    "        self.n_layers = n_layers\n",
    "        self.n_outputs = n_outputs\n",
    "\n",
    "\n",
    "        # The word embedding layer.\n",
    "        self.embed = nn.Embedding(self.vocab_size, self.embed_size)\n",
    "        # The RNN\n",
    "        self.rnn = nn.RNN(\n",
    "            input_size = self.embed_size,\n",
    "            hidden_size = self.hidden_size,\n",
    "            num_layers = self.n_layers,\n",
    "            batch_first = True, # Changes the order of dimension to put the batches first.\n",
    "        )\n",
    "        # A fully connected layer to project the RNN's output to only one output used for classification.\n",
    "        self.fc = nn.Linear(self.hidden_size, self.n_outputs)\n",
    "\n",
    "    def forward(self, X: torch.Tensor) -> torch.Tensor:\n",
    "        \"\"\"Function called when the model is called with data as input.\n",
    "        Args:\n",
    "            X: the input tensor of dimensions batch_size, sequence length, vocab size (actually just an int).\n",
    "        Returns:\n",
    "            The resulting tensor of dimension batch_size, sequence length, output dimensions.\n",
    "        \"\"\"\n",
    "        h0 = torch.zeros(self.n_layers, X.size(0), self.hidden_size).to(device)\n",
    "\n",
    "        out = self.embed(X)\n",
    "        # out contains the output layer of all words in the sequence.\n",
    "        # First dim is batch, second the word in the sequence, third is the vector itself.\n",
    "        # The second output value is the last vector of all intermediate layer.\n",
    "        # Only use it if you want to access the intermediate layer values of a\n",
    "        # multilayer model.\n",
    "        out, _ = self.rnn(out, h0)\n",
    "        # Getting the last value only.\n",
    "        out = out[:, -1, :]\n",
    "\n",
    "        # Linear projection.\n",
    "        out = self.fc(out)\n",
    "\n",
    "        return out"
   ]
  },
  {
   "cell_type": "markdown",
   "id": "2caf1cf0",
   "metadata": {},
   "source": [
    "## Training (1 point)"
   ]
  },
  {
   "cell_type": "markdown",
   "id": "e628c1a3",
   "metadata": {},
   "source": [
    "**\\[1 point\\]** Code the training function.\n",
    "* Note that we are using a function, as we will use it on several models here.\n",
    "* The RNN implementation of pyTorch doesn't need to be manually looped. As commented in the `forward` function above, `out` contains the ouptut layer for all words in the sequence, and taking its last value is what we needed."
   ]
  },
  {
   "cell_type": "code",
   "execution_count": 12,
   "id": "3340de7e",
   "metadata": {},
   "outputs": [],
   "source": [
    "def train(\n",
    "    model: nn.Module,\n",
    "    criterion: Callable,\n",
    "    optimizer: torch.optim.Optimizer,\n",
    "    n_epochs: int,\n",
    "    train_gen: Callable,\n",
    "    valid_gen: Callable,\n",
    ") -> Tuple[nn.Module, List[float], List[float]]:\n",
    "    \"\"\"Train a model using a batch gradient descent.\n",
    "    Args:\n",
    "        model: a class inheriting from nn.Module.\n",
    "        criterion: a loss criterion.\n",
    "        optimizer: an optimizer (e.g. Adam, RMSprop, ...).\n",
    "        n_epochs: the number of training epochs.\n",
    "        train_gen: a callable function returing a batch (data, labels).\n",
    "        valid_gen: a callable function returing a batch (data, labels).\n",
    "    Returns:\n",
    "        A tuple:[best_model (by validation loss), training losses, validation losses].\n",
    "    \"\"\"\n",
    "    train_losses, valid_losses = [], []\n",
    "    best_loss = float('inf')\n",
    "    best_model = None\n",
    "\n",
    "\n",
    "    for epoch in tqdm(range(n_epochs)):\n",
    "        model.train()\n",
    "        train_loss = 0.0\n",
    "        num_train_batches = 0\n",
    "\n",
    "        for data, labels in train_gen():\n",
    "            data = data.to(device)\n",
    "            labels = labels.to(device).float()\n",
    "\n",
    "            optimizer.zero_grad()\n",
    "            output = model(data) #.squeeze().float()\n",
    "            output = output.to(device)\n",
    "            loss = criterion(output, labels)\n",
    "            loss.backward()\n",
    "            optimizer.step()\n",
    "            train_loss += loss.item()\n",
    "            num_train_batches += 1\n",
    "\n",
    "        train_loss /= num_train_batches\n",
    "        train_losses.append(train_loss)\n",
    "\n",
    "        # Validation\n",
    "        model.eval()\n",
    "        valid_loss = 0.0\n",
    "        num_valid_batches = 0\n",
    "\n",
    "        with torch.no_grad():\n",
    "            for data, labels in valid_gen():\n",
    "                data = data.to(device)\n",
    "                labels = labels.to(device).float()\n",
    "\n",
    "                output = model(data)#.squeeze().float()\n",
    "                output = output.to(device)\n",
    "                loss = criterion(output, labels)\n",
    "                valid_loss += loss.item()\n",
    "                num_valid_batches += 1\n",
    "\n",
    "        valid_loss /= num_valid_batches\n",
    "        valid_losses.append(valid_loss)\n",
    "\n",
    "        # Vérification du meilleur modèle selon la perte de validation\n",
    "        if valid_loss < best_loss:\n",
    "            best_loss = valid_loss\n",
    "            best_model = model\n",
    "\n",
    "       # print(f\"Epoch {epoch+1}/{n_epochs} - Train Loss: {train_loss:.4f} - Valid Loss: {valid_loss:.4f}\")\n",
    "    return best_model, train_losses, valid_losses"
   ]
  },
  {
   "cell_type": "code",
   "execution_count": 13,
   "id": "61236044",
   "metadata": {},
   "outputs": [],
   "source": [
    "n_embedding = 32\n",
    "n_hidden = 64\n",
    "criterion = nn.BCEWithLogitsLoss()\n",
    "rnn_model = RNN(len(vocabulary.get_itos()), n_embedding, n_hidden, 2, 1).to(device)\n",
    "optimizer = torch.optim.RMSprop(rnn_model.parameters(), lr=0.001)"
   ]
  },
  {
   "cell_type": "code",
   "execution_count": null,
   "id": "33741383",
   "metadata": {},
   "outputs": [],
   "source": [
    "train(rnn_model, criterion, optimizer, 15, train_gen, valid_gen)"
   ]
  },
  {
   "cell_type": "markdown",
   "id": "bb6f8cd4",
   "metadata": {},
   "source": [
    "*  Add an accuracy function and report the accuracy of the training, validation, and test set."
   ]
  },
  {
   "cell_type": "code",
   "execution_count": 16,
   "id": "40906482",
   "metadata": {},
   "outputs": [],
   "source": [
    "def accuracy(model: nn.Module, data_gen: Callable) -> float:\n",
    "    \"\"\"Calcule l'accuracy du modèle.\n",
    "    Args:\n",
    "        model: Notre modèle.\n",
    "        data_gen: Notre générateur de données.\n",
    "    Returns:\n",
    "        L'accuracy du modèle sur l'ensemble de données passé en paramètre.\n",
    "    \"\"\"\n",
    "    model.eval()\n",
    "    total = 0\n",
    "    correct = 0\n",
    "\n",
    "    with torch.no_grad():\n",
    "        for data, labels in data_gen():\n",
    "            pred = model(data)\n",
    "            _, predicted = torch.max(pred.data, 1)\n",
    "            total += labels.size(0)\n",
    "            correct += (predicted == labels).sum().item()\n",
    "\n",
    "    accuracy = correct / total\n",
    "    return accuracy\n"
   ]
  },
  {
   "cell_type": "code",
   "execution_count": null,
   "id": "e1f1c18e",
   "metadata": {},
   "outputs": [],
   "source": [
    "print('Accuracy on the training set: ', accuracy(rnn_model, train_gen))\n",
    "print('Accuracy on the validation set: ', accuracy(rnn_model, valid_gen))\n",
    "print('Accuracy on the test set: ', accuracy(rnn_model, test_gen))"
   ]
  },
  {
   "cell_type": "markdown",
   "id": "4b060766",
   "metadata": {},
   "source": [
    "*  Create an LSTM class which uses an LSTM instead of an RNN."
   ]
  },
  {
   "cell_type": "code",
   "execution_count": 17,
   "id": "7a35c4cf",
   "metadata": {},
   "outputs": [],
   "source": [
    "class LSTM(nn.Module):\n",
    "    \"\"\"A simple LSTM module with word embeddings.\n",
    "    \"\"\"\n",
    "    def __init__(self, vocab_size: int, embed_size: int, hidden_size: int, n_layers: int, n_outputs: int) -> None:\n",
    "        \"\"\"\n",
    "        Args:\n",
    "            vocab_size: vocabulary size.\n",
    "            embed_size: embedding dimensions.\n",
    "            hidden_size: hidden layer size.\n",
    "            n_layers: the number of layers.\n",
    "            n_outputs: the number of output classes.\n",
    "        \"\"\"\n",
    "        super().__init__()\n",
    "        self.vocab_size = vocab_size\n",
    "        self.embed_size = embed_size\n",
    "        self.hidden_size = hidden_size\n",
    "        self.n_layers = n_layers\n",
    "        self.n_outputs = n_outputs\n",
    "\n",
    "        # The word embedding layer.\n",
    "        self.embed = nn.Embedding(self.vocab_size, self.embed_size)\n",
    "        # The LSTM\n",
    "        self.lstm = nn.LSTM(\n",
    "            input_size=self.embed_size,\n",
    "            hidden_size=self.hidden_size,\n",
    "            num_layers=self.n_layers,\n",
    "            batch_first=True,  # Changes the order of dimension to put the batches first.\n",
    "        )\n",
    "        # A fully connected layer to project the LSTM's output to the desired number of output classes.\n",
    "        self.fc = nn.Linear(self.hidden_size, self.n_outputs)\n",
    "\n",
    "    def forward(self, X: torch.Tensor) -> torch.Tensor:\n",
    "        \"\"\"Function called when the model is called with data as input.\n",
    "        Args:\n",
    "            X: the input tensor of dimensions batch_size, sequence length, vocab size (actually just an int).\n",
    "        Returns:\n",
    "            The resulting tensor of dimensions batch_size, sequence length, output dimensions.\n",
    "        \"\"\"\n",
    "        h0 = torch.zeros(self.n_layers, X.size(0), self.hidden_size).to(device)\n",
    "        c0 = torch.zeros(self.n_layers, X.size(0), self.hidden_size).to(device)\n",
    "\n",
    "        out = self.embed(X)\n",
    "        out, _ = self.lstm(out, (h0, c0))\n",
    "        out = out[:, -1, :]\n",
    "\n",
    "        # Linear projection.\n",
    "        out = self.fc(out)\n",
    "\n",
    "        return out\n"
   ]
  },
  {
   "cell_type": "code",
   "execution_count": 18,
   "id": "5d9f576a",
   "metadata": {},
   "outputs": [],
   "source": [
    "n_embedding = 32\n",
    "n_hidden = 64\n",
    "n_layers = 2\n",
    "lstm_model = LSTM(len(vocabulary.get_itos()), n_embedding, n_hidden, n_layers, 1).to(device)\n",
    "criterion = nn.BCEWithLogitsLoss()\n",
    "optimizer = torch.optim.RMSprop(lstm_model.parameters(), lr=0.001)"
   ]
  },
  {
   "cell_type": "code",
   "execution_count": null,
   "id": "23bdf222",
   "metadata": {},
   "outputs": [],
   "source": [
    "train(lstm_model, criterion, optimizer, 15, train_gen, valid_gen)"
   ]
  },
  {
   "cell_type": "code",
   "execution_count": null,
   "id": "1ff993b3",
   "metadata": {},
   "outputs": [],
   "source": [
    "print('Accuracy on the training set: ', accuracy(lstm_model, train_gen))\n",
    "print('Accuracy on the validation set: ', accuracy(lstm_model, valid_gen))\n",
    "print('Accuracy on the test set: ', accuracy(lstm_model, test_gen))"
   ]
  },
  {
   "cell_type": "markdown",
   "id": "46386a0c",
   "metadata": {},
   "source": [
    "Comparing RNN and LSTM models"
   ]
  },
  {
   "cell_type": "markdown",
   "id": "4ef01b98",
   "metadata": {},
   "source": [
    "# TODO"
   ]
  },
  {
   "cell_type": "markdown",
   "id": "27025e40",
   "metadata": {},
   "source": [
    "* Implement a function which takes any text and returns the model's prediction.\n",
    "    * The function should have a string as input and return a class (0 or 1) and its confidence (between 0 and 1)."
   ]
  },
  {
   "cell_type": "markdown",
   "id": "3b26fa62",
   "metadata": {},
   "source": [
    "Implement a function which takes any text and returns the model's prediction."
   ]
  },
  {
   "cell_type": "code",
   "execution_count": 19,
   "id": "a1039b95",
   "metadata": {},
   "outputs": [],
   "source": [
    "def lstm_predict(text: str) -> Tuple[int, float]:\n",
    "\n",
    "    input_tensor = torch.tensor(text).unsqueeze(0).to(device)\n",
    "    model = LSTM()\n",
    "\n",
    "    with torch.no_grad():\n",
    "        model.eval()\n",
    "        output = model(input_tensor)\n",
    "        probabilities =nn.softmax(output, dim=1)\n",
    "\n",
    "    predicted_class = torch.argmax(probabilities, dim=1).item()\n",
    "    confidence = probabilities[0, predicted_class].item()\n",
    "\n",
    "    return predicted_class, confidence\n"
   ]
  },
  {
   "cell_type": "markdown",
   "id": "22c5c6da",
   "metadata": {},
   "source": [
    "* With your best classifier, look at two wrongly classified examples on the test set. Try explaining why the model was wrong."
   ]
  }
 ],
 "metadata": {
  "kernelspec": {
   "display_name": "Python 3 (ipykernel)",
   "language": "python",
   "name": "python3"
  },
  "language_info": {
   "codemirror_mode": {
    "name": "ipython",
    "version": 3
   },
   "file_extension": ".py",
   "mimetype": "text/x-python",
   "name": "python",
   "nbconvert_exporter": "python",
   "pygments_lexer": "ipython3",
   "version": "3.10.10"
  }
 },
 "nbformat": 4,
 "nbformat_minor": 5
}
