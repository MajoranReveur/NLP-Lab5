{
 "cells": [
  {
   "cell_type": "markdown",
   "id": "780cf295-7141-43e8-b8b8-199b14071e2a",
   "metadata": {},
   "source": [
    "# Coding your own RNN\n",
    "\n",
    "Using this pre-filled notebook, we will code our own RNN for sentence classification. For now, we'll keep using IMDB, as the goal of this part is to understand how an RNN works.\n",
    "\n",
    "Unlike our previous lab, we will also learn the embedding layer. Which means we need to deal with vocabulary by ourselves."
   ]
  },
  {
   "cell_type": "code",
   "execution_count": 1,
   "id": "f26c411e-1cd5-4a1c-9b3d-de16e26db901",
   "metadata": {},
   "outputs": [],
   "source": [
    "from functools import partial\n",
    "from typing import Callable, Dict, Generator, List, Tuple\n",
    "\n",
    "from datasets import load_dataset\n",
    "import numpy as np\n",
    "from sklearn.utils import shuffle\n",
    "import torch\n",
    "from torch import nn\n",
    "from torchtext.vocab import vocab, Vocab, build_vocab_from_iterator\n",
    "from torchtext.data.utils import get_tokenizer\n",
    "\n",
    "from tqdm.auto import tqdm"
   ]
  },
  {
   "cell_type": "markdown",
   "id": "ec040734-ff61-4c85-982c-acb2a5bd6d8c",
   "metadata": {},
   "source": [
    "## Dataset\n",
    "We load the dataset and split the training set in a stratified train/validation set."
   ]
  },
  {
   "cell_type": "code",
   "execution_count": 2,
   "id": "42b598f9-36b5-43e3-bb25-488b0fb53aac",
   "metadata": {},
   "outputs": [
    {
     "name": "stderr",
     "output_type": "stream",
     "text": [
      "Found cached dataset imdb (C:/Users/leand/.cache/huggingface/datasets/imdb/plain_text/1.0.0/d613c88cf8fa3bab83b4ded3713f1f74830d1100e171db75bbddb80b3345c9c0)\n"
     ]
    },
    {
     "data": {
      "text/plain": "  0%|          | 0/3 [00:00<?, ?it/s]",
      "application/vnd.jupyter.widget-view+json": {
       "version_major": 2,
       "version_minor": 0,
       "model_id": "1d3b67604a214bb0bd07117158586add"
      }
     },
     "metadata": {},
     "output_type": "display_data"
    },
    {
     "name": "stderr",
     "output_type": "stream",
     "text": [
      "Loading cached split indices for dataset at C:\\Users\\leand\\.cache\\huggingface\\datasets\\imdb\\plain_text\\1.0.0\\d613c88cf8fa3bab83b4ded3713f1f74830d1100e171db75bbddb80b3345c9c0\\cache-5f37fd0866e4f89f.arrow and C:\\Users\\leand\\.cache\\huggingface\\datasets\\imdb\\plain_text\\1.0.0\\d613c88cf8fa3bab83b4ded3713f1f74830d1100e171db75bbddb80b3345c9c0\\cache-dd5732a0e6ac784c.arrow\n"
     ]
    },
    {
     "data": {
      "text/plain": "((20000, 2), (5000, 2), (25000, 2))"
     },
     "execution_count": 2,
     "metadata": {},
     "output_type": "execute_result"
    }
   ],
   "source": [
    "dataset = load_dataset(\"imdb\")\n",
    "train_dataset = dataset[\"train\"].train_test_split(\n",
    "    stratify_by_column=\"label\", test_size=0.2, seed=42\n",
    ")\n",
    "test_df = dataset[\"test\"]\n",
    "train_df = train_dataset[\"train\"]\n",
    "valid_df = train_dataset[\"test\"]\n",
    "train_df.shape, valid_df.shape, test_df.shape"
   ]
  },
  {
   "cell_type": "markdown",
   "id": "f309e444-d52d-4f87-8d18-7bb470b7cfcd",
   "metadata": {},
   "source": [
    "### Vocabulary (1 point)\n",
    "\n",
    "**\\[1 point\\]** Build your own vocabulary. The [example provided in torchtext documentation](https://pytorch.org/text/stable/vocab.html#id1) might be of help.\n",
    "* Don't forge to setup the `min_freq` parameter to not include unfrequent noise.\n",
    "* You will need a tokenizer. Reuse the `basic_english` one from the our previous lab.\n",
    "* For an RNN we need two special tokens: `<unk>`, for unknown words, and `<pad>` for padding."
   ]
  },
  {
   "cell_type": "code",
   "execution_count": 3,
   "outputs": [],
   "source": [
    "tokenizer = get_tokenizer(\"basic_english\", language=\"en\")\n",
    "def yield_tokens(data_iter):\n",
    "    for doc in data_iter:\n",
    "        yield tokenizer(doc[\"text\"])\n",
    "vocabulary = build_vocab_from_iterator(yield_tokens(train_df), min_freq=1, specials=[\"<unk>\", \"<pad>\"])\n",
    "vocabulary.set_default_index(vocabulary[\"<unk>\"])"
   ],
   "metadata": {
    "collapsed": false
   }
  },
  {
   "cell_type": "code",
   "execution_count": 4,
   "outputs": [],
   "source": [
    "pad_token = \"<pad>\""
   ],
   "metadata": {
    "collapsed": false
   }
  },
  {
   "cell_type": "markdown",
   "id": "89386d66-f758-4d87-b786-9d570eb22f2f",
   "metadata": {},
   "source": [
    "## Vectorize and batch the input (3 points)\n",
    "\n",
    "As seen in class, our model should take one-hot encoded vectors corresponding to the each token vocabulary id. However, computing a vector x matrix multiplication for every input is unnecessarily costly. Multiplying a one-hot vector with a matrix is the equivalent of taking one row of the matrix. In pyTorch, we provide ids for each token which will be used as input to an `nn.Embedding` layer. The id is simply the row in the embedding matrix.\n",
    "\n",
    "**\\[1 point\\]** Fill the `vectorize_text` function returning a 1D torch tensor of `torch.long` for each input text."
   ]
  },
  {
   "cell_type": "code",
   "execution_count": 5,
   "id": "3f6fc4eb-2f25-43ee-8b2f-a9154545ebc6",
   "metadata": {},
   "outputs": [],
   "source": [
    "def vectorize_text(\n",
    "    text: str, vocabulary: Vocab, tokenizer: Callable[[str], List[str]]\n",
    ") -> torch.Tensor:\n",
    "    \"\"\"\n",
    "    Generate a tensor of vocabluary IDs for a given text.\n",
    "    Args:\n",
    "        text: the input text.\n",
    "        vocabulary: a Vocab objects.\n",
    "        tokenizer: a text tokenizer.\n",
    "    Returns:\n",
    "        A tensor of IDs (torch.long).\n",
    "    \"\"\"\n",
    "    return torch.tensor(vocabulary.forward(tokenizer(text)))\n"
   ]
  },
  {
   "cell_type": "code",
   "execution_count": 6,
   "id": "2a4a9058-ad04-43b9-bf5c-680afb44e35c",
   "metadata": {},
   "outputs": [],
   "source": [
    "text_pipeline = partial(vectorize_text, vocabulary=vocabulary, tokenizer=tokenizer)"
   ]
  },
  {
   "cell_type": "markdown",
   "id": "9717208d-2f50-4d16-b170-904beeeb71ad",
   "metadata": {},
   "source": [
    "Check the function is working correctly, especially it should return the right special id for unknown words."
   ]
  },
  {
   "cell_type": "code",
   "execution_count": 7,
   "id": "9727204a-ecff-4e4d-a316-543865d52a31",
   "metadata": {},
   "outputs": [
    {
     "name": "stdout",
     "output_type": "stream",
     "text": [
      "tensor([  56, 3167,   13,  244,  527,   50,    3,    3,    3,    0])\n",
      "some\n",
      "text\n",
      "i\n",
      "am\n",
      "thinking\n",
      "about\n",
      ".\n",
      ".\n",
      ".\n",
      "<unk>\n",
      "The time of execution of above program is : 8.049488067626953 ms\n"
     ]
    }
   ],
   "source": [
    "ids = text_pipeline(\"Some text I am thinking about... ragafqfa\")\n",
    "print(ids)\n",
    "for id in ids :\n",
    "    print(vocabulary.lookup_token(id))"
   ]
  },
  {
   "cell_type": "code",
   "execution_count": 8,
   "id": "97eb948c-cfae-47b1-b8ce-bafa358afe65",
   "metadata": {},
   "outputs": [
    {
     "data": {
      "text/plain": "  0%|          | 0/20000 [00:00<?, ?it/s]",
      "application/vnd.jupyter.widget-view+json": {
       "version_major": 2,
       "version_minor": 0,
       "model_id": "4d539d516b7548f2be8a190ebddce8ee"
      }
     },
     "metadata": {},
     "output_type": "display_data"
    },
    {
     "data": {
      "text/plain": "  0%|          | 0/5000 [00:00<?, ?it/s]",
      "application/vnd.jupyter.widget-view+json": {
       "version_major": 2,
       "version_minor": 0,
       "model_id": "0a118ca384164b2e9fdd64cb848a6010"
      }
     },
     "metadata": {},
     "output_type": "display_data"
    },
    {
     "data": {
      "text/plain": "  0%|          | 0/25000 [00:00<?, ?it/s]",
      "application/vnd.jupyter.widget-view+json": {
       "version_major": 2,
       "version_minor": 0,
       "model_id": "2e9d205b6bb24d8a8cb72685a7238a69"
      }
     },
     "metadata": {},
     "output_type": "display_data"
    },
    {
     "name": "stdout",
     "output_type": "stream",
     "text": [
      "The time of execution of above program is : 7699.622631072998 ms\n"
     ]
    }
   ],
   "source": [
    "X_train = [text_pipeline(text) for text in tqdm(train_df[\"text\"])]\n",
    "y_train = train_df[\"label\"]\n",
    "X_valid = [text_pipeline(text) for text in tqdm(valid_df[\"text\"])]\n",
    "y_valid = valid_df[\"label\"]\n",
    "X_test = [text_pipeline(text) for text in tqdm(test_df[\"text\"])]\n",
    "y_test = test_df[\"label\"]"
   ]
  },
  {
   "cell_type": "markdown",
   "id": "67138763-f848-4dd7-9036-68df352d22a0",
   "metadata": {},
   "source": [
    "To speed up the training process, we turn the inputs into batches, as we did last time. For batches to work, every line must have the same lengths. Last time, it was implicit as only a vector (the average of all embeddings) was provided. This time, every line has the length of a different review.\n",
    "\n",
    "To go around this problem, we use padding. So every line within a batch is padded to the length of its longest element.\n",
    "\n",
    "* **\\[1 point\\]** Fill the data generator function.\n",
    "* **\\[1 point\\]** On which side should you pad and why?"
   ]
  },
  {
   "cell_type": "code",
   "execution_count": 48,
   "id": "a88dd162-8107-4f05-bc8a-2fd313a3b8da",
   "metadata": {},
   "outputs": [],
   "source": [
    "def data_generator(\n",
    "    X: List[torch.tensor], y: List[int], pad_id: int, batch_size: int = 32\n",
    ") -> Generator[Tuple[torch.Tensor, torch.Tensor], None, None]:\n",
    "    \"\"\"\n",
    "    Yield batches from given input data and labels.\n",
    "    Args:\n",
    "        X: a list of tensor (input features).\n",
    "        y: the corresponding labels.\n",
    "        batch_size: the size of every batch [32].\n",
    "    Returns:\n",
    "        A tuple of tensors (features, labels).\n",
    "    \"\"\"\n",
    "    X, y = shuffle(X, y)\n",
    "    num_batches = (len(X) - 1) // batch_size + 1\n",
    "\n",
    "    for i in range(num_batches) :\n",
    "        starting_index = i * batch_size\n",
    "        ending_index = min((i + 1) * batch_size, len(X))\n",
    "        batch_X = X[starting_index:ending_index]\n",
    "        batch_Y = y[starting_index:ending_index]\n",
    "        max_len = 0\n",
    "        for line in batch_X :\n",
    "            max_len = max(max_len, len(line))\n",
    "        for j in range(len(batch_X)) :\n",
    "            len_pad = max_len - len(batch_X[j])\n",
    "            if len_pad > 0:\n",
    "                batch_X[j] = torch.cat((torch.full((len_pad,), pad_id), batch_X[j]), 0)\n",
    "        yield torch.stack(batch_X), torch.tensor(batch_Y)"
   ]
  },
  {
   "cell_type": "markdown",
   "source": [
    "Le pad devrait se trouver à gauche des tokens, puisque cela permet d'obtenir de meilleurs résultats sur l'accuracy."
   ],
   "metadata": {
    "collapsed": false
   }
  },
  {
   "cell_type": "code",
   "execution_count": 49,
   "id": "c2e10342-4d6b-45c4-8e05-68ef6375b977",
   "metadata": {},
   "outputs": [],
   "source": [
    "train_gen = lambda: data_generator(X_train, y_train, vocabulary[pad_token])\n",
    "valid_gen = lambda: data_generator(X_valid, y_valid, vocabulary[pad_token])\n",
    "test_gen = lambda: data_generator(X_test, y_test, vocabulary[pad_token])"
   ]
  },
  {
   "cell_type": "markdown",
   "id": "4489d625-f1ad-49ea-8b54-74463e04877f",
   "metadata": {
    "tags": []
   },
   "source": [
    "## Classifier (3 points)\n",
    "\n",
    "**\\[3 points\\]** Code your own RNN. Fill the `RNN` class correctly. Remember an RNN has 3 matrices and an embedding layer (see course slide 61).\n",
    "* The embedding layer turns a one-hot vectors into dense vectors.\n",
    "* The first matrix (W) connects the embedding to the hidden layer.\n",
    "  * `embedding_size -> hidden_size`\n",
    "* The second matrix (U) connect the previous hidden layer to the current one.\n",
    "  * `hidden_size -> hidden_size`\n",
    "* These to vectors are added and go through an activation function (e.g. $h_t = tanh(Wx_i+Uh_{t-1})$).\n",
    "* The last matrix (V) connects the hidden layer to the hidden layer to the output.\n",
    "  * `hidden_size -> 1`\n",
    "* Donc forget to add an `init_hidden` function which initialize the first hidden layer to 0."
   ]
  },
  {
   "cell_type": "code",
   "execution_count": 50,
   "outputs": [],
   "source": [
    "class RNN(nn.Module):\n",
    "    def __init__(self,vocabulary_size,embedding_size, hidden_size):\n",
    "        super().__init__()\n",
    "        self.embedding = nn.Embedding(num_embeddings=vocabulary_size, embedding_dim = embedding_size)\n",
    "        self.W = nn.Linear(in_features=embedding_size, out_features=hidden_size)\n",
    "        self.U = nn.Linear(in_features=hidden_size, out_features=hidden_size)\n",
    "        self.V = nn.Linear(in_features=hidden_size, out_features=1)\n",
    "        self.tanh = nn.Tanh()\n",
    "        self.hidden_size = hidden_size\n",
    "\n",
    "    def init_hidden(self, batch_size):\n",
    "        return torch.zeros(batch_size, self.hidden_size)\n",
    "\n",
    "    def forward(self,input):\n",
    "        h = self.init_hidden(input.shape[0])\n",
    "        for i in range(input.shape[1]):\n",
    "            somme = self.W(self.embedding(input[:,i])) + self.U(h)\n",
    "            h = self.tanh(somme)\n",
    "        output  = self.V(h)\n",
    "        return output.squeeze()"
   ],
   "metadata": {
    "collapsed": false
   }
  },
  {
   "cell_type": "markdown",
   "id": "4c665df6-ff9a-4b66-80fe-8abe62d895c9",
   "metadata": {},
   "source": [
    "## Training (2 points)\n",
    "\n",
    "Training is a bit different than usual. We will need to sequentially (but in \"batch parallel\") go through an input, keeping track of the hidden layer, and use the last output as prediction.\n",
    "\n",
    "**\\[2 point\\]** Code the training loop.\n",
    "* Note that for each batch, you need to loop through the whole input and use the output of the last token as input to your criterion.\n",
    "* Keep the best model evaluated on the validation set.\n",
    "* Plot the training and validation losses.\n",
    "* Training will take some time (~30 min on a T4 GPU). Make sure your results appear in the notebook."
   ]
  },
  {
   "cell_type": "code",
   "execution_count": 51,
   "id": "0e9053b8-19f3-45b4-a434-2f8cef8a1f64",
   "metadata": {},
   "outputs": [
    {
     "data": {
      "text/plain": "'cpu'"
     },
     "execution_count": 51,
     "metadata": {},
     "output_type": "execute_result"
    }
   ],
   "source": [
    "device = \"cuda:0\" if torch.cuda.is_available() else \"cpu\"\n",
    "device"
   ]
  },
  {
   "cell_type": "code",
   "execution_count": 53,
   "id": "46cdc558-249b-4c26-b1e5-fc1c0a78d32d",
   "metadata": {},
   "outputs": [
    {
     "data": {
      "text/plain": "  0%|          | 0/15 [00:00<?, ?it/s]",
      "application/vnd.jupyter.widget-view+json": {
       "version_major": 2,
       "version_minor": 0,
       "model_id": "29bf9f5e29854384921e56c0e64fae2e"
      }
     },
     "metadata": {},
     "output_type": "display_data"
    },
    {
     "name": "stdout",
     "output_type": "stream",
     "text": [
      "0\n",
      "1\n",
      "2\n",
      "3\n",
      "4\n",
      "5\n",
      "6\n",
      "7\n",
      "8\n",
      "9\n"
     ]
    },
    {
     "ename": "KeyboardInterrupt",
     "evalue": "",
     "output_type": "error",
     "traceback": [
      "\u001B[1;31m---------------------------------------------------------------------------\u001B[0m",
      "\u001B[1;31mKeyboardInterrupt\u001B[0m                         Traceback (most recent call last)",
      "Cell \u001B[1;32mIn[53], line 26\u001B[0m\n\u001B[0;32m     24\u001B[0m logits \u001B[38;5;241m=\u001B[39m model(batch_X\u001B[38;5;241m.\u001B[39mto(device))\n\u001B[0;32m     25\u001B[0m loss \u001B[38;5;241m=\u001B[39m criterion(logits, batch_Y\u001B[38;5;241m.\u001B[39mto(device)\u001B[38;5;241m.\u001B[39mfloat())\u001B[38;5;66;03m#to device\u001B[39;00m\n\u001B[1;32m---> 26\u001B[0m \u001B[43mloss\u001B[49m\u001B[38;5;241;43m.\u001B[39;49m\u001B[43mbackward\u001B[49m\u001B[43m(\u001B[49m\u001B[43m)\u001B[49m\n\u001B[0;32m     27\u001B[0m optimizer\u001B[38;5;241m.\u001B[39mstep()\n\u001B[0;32m     28\u001B[0m train_loss \u001B[38;5;241m+\u001B[39m\u001B[38;5;241m=\u001B[39m loss\u001B[38;5;241m.\u001B[39mitem()\n",
      "File \u001B[1;32m~\\PycharmProjects\\pythonProjectFTML\\NLP\\lib\\site-packages\\torch\\_tensor.py:487\u001B[0m, in \u001B[0;36mTensor.backward\u001B[1;34m(self, gradient, retain_graph, create_graph, inputs)\u001B[0m\n\u001B[0;32m    477\u001B[0m \u001B[38;5;28;01mif\u001B[39;00m has_torch_function_unary(\u001B[38;5;28mself\u001B[39m):\n\u001B[0;32m    478\u001B[0m     \u001B[38;5;28;01mreturn\u001B[39;00m handle_torch_function(\n\u001B[0;32m    479\u001B[0m         Tensor\u001B[38;5;241m.\u001B[39mbackward,\n\u001B[0;32m    480\u001B[0m         (\u001B[38;5;28mself\u001B[39m,),\n\u001B[1;32m   (...)\u001B[0m\n\u001B[0;32m    485\u001B[0m         inputs\u001B[38;5;241m=\u001B[39minputs,\n\u001B[0;32m    486\u001B[0m     )\n\u001B[1;32m--> 487\u001B[0m \u001B[43mtorch\u001B[49m\u001B[38;5;241;43m.\u001B[39;49m\u001B[43mautograd\u001B[49m\u001B[38;5;241;43m.\u001B[39;49m\u001B[43mbackward\u001B[49m\u001B[43m(\u001B[49m\n\u001B[0;32m    488\u001B[0m \u001B[43m    \u001B[49m\u001B[38;5;28;43mself\u001B[39;49m\u001B[43m,\u001B[49m\u001B[43m \u001B[49m\u001B[43mgradient\u001B[49m\u001B[43m,\u001B[49m\u001B[43m \u001B[49m\u001B[43mretain_graph\u001B[49m\u001B[43m,\u001B[49m\u001B[43m \u001B[49m\u001B[43mcreate_graph\u001B[49m\u001B[43m,\u001B[49m\u001B[43m \u001B[49m\u001B[43minputs\u001B[49m\u001B[38;5;241;43m=\u001B[39;49m\u001B[43minputs\u001B[49m\n\u001B[0;32m    489\u001B[0m \u001B[43m\u001B[49m\u001B[43m)\u001B[49m\n",
      "File \u001B[1;32m~\\PycharmProjects\\pythonProjectFTML\\NLP\\lib\\site-packages\\torch\\autograd\\__init__.py:200\u001B[0m, in \u001B[0;36mbackward\u001B[1;34m(tensors, grad_tensors, retain_graph, create_graph, grad_variables, inputs)\u001B[0m\n\u001B[0;32m    195\u001B[0m     retain_graph \u001B[38;5;241m=\u001B[39m create_graph\n\u001B[0;32m    197\u001B[0m \u001B[38;5;66;03m# The reason we repeat same the comment below is that\u001B[39;00m\n\u001B[0;32m    198\u001B[0m \u001B[38;5;66;03m# some Python versions print out the first line of a multi-line function\u001B[39;00m\n\u001B[0;32m    199\u001B[0m \u001B[38;5;66;03m# calls in the traceback and some print out the last line\u001B[39;00m\n\u001B[1;32m--> 200\u001B[0m \u001B[43mVariable\u001B[49m\u001B[38;5;241;43m.\u001B[39;49m\u001B[43m_execution_engine\u001B[49m\u001B[38;5;241;43m.\u001B[39;49m\u001B[43mrun_backward\u001B[49m\u001B[43m(\u001B[49m\u001B[43m  \u001B[49m\u001B[38;5;66;43;03m# Calls into the C++ engine to run the backward pass\u001B[39;49;00m\n\u001B[0;32m    201\u001B[0m \u001B[43m    \u001B[49m\u001B[43mtensors\u001B[49m\u001B[43m,\u001B[49m\u001B[43m \u001B[49m\u001B[43mgrad_tensors_\u001B[49m\u001B[43m,\u001B[49m\u001B[43m \u001B[49m\u001B[43mretain_graph\u001B[49m\u001B[43m,\u001B[49m\u001B[43m \u001B[49m\u001B[43mcreate_graph\u001B[49m\u001B[43m,\u001B[49m\u001B[43m \u001B[49m\u001B[43minputs\u001B[49m\u001B[43m,\u001B[49m\n\u001B[0;32m    202\u001B[0m \u001B[43m    \u001B[49m\u001B[43mallow_unreachable\u001B[49m\u001B[38;5;241;43m=\u001B[39;49m\u001B[38;5;28;43;01mTrue\u001B[39;49;00m\u001B[43m,\u001B[49m\u001B[43m \u001B[49m\u001B[43maccumulate_grad\u001B[49m\u001B[38;5;241;43m=\u001B[39;49m\u001B[38;5;28;43;01mTrue\u001B[39;49;00m\u001B[43m)\u001B[49m\n",
      "\u001B[1;31mKeyboardInterrupt\u001B[0m: "
     ]
    }
   ],
   "source": [
    "from copy import deepcopy\n",
    "\n",
    "n_embedding = 32\n",
    "n_hidden = 64\n",
    "model = RNN(len(vocabulary.get_itos()), n_embedding, n_hidden).to(device)\n",
    "criterion = nn.BCEWithLogitsLoss()\n",
    "optimizer = torch.optim.RMSprop(model.parameters(), lr=0.001)\n",
    "\n",
    "nb_epochs = 15\n",
    "train_losses, valid_losses = [], []\n",
    "\n",
    "best_model = model\n",
    "best_validation_loss = np.Inf\n",
    "\n",
    "for epoch in tqdm(range(nb_epochs)):\n",
    "    # training\n",
    "    model.train()\n",
    "    train_loss = 0.0\n",
    "    # training loop\n",
    "    i=0\n",
    "    for batch_X, batch_Y in train_gen():\n",
    "        optimizer.zero_grad()\n",
    "        logits = model(batch_X.to(device))\n",
    "        loss = criterion(logits, batch_Y.to(device).float())#to device\n",
    "        loss.backward()\n",
    "        optimizer.step()\n",
    "        train_loss += loss.item()\n",
    "        i += 1\n",
    "    print(train_loss / len(X_train))\n",
    "    train_losses.append(train_loss / len(X_train))\n",
    "    # validation\n",
    "    model.eval()\n",
    "    valid_loss = 0.0\n",
    "    # validation loop\n",
    "    with torch.no_grad():\n",
    "        for batch_X, batch_Y in valid_gen():\n",
    "            logits = model(batch_X.to(device))\n",
    "            loss = criterion(logits, batch_Y.to(device).float())\n",
    "            valid_loss += loss.item()\n",
    "    valid_losses.append(valid_loss / len(X_valid))\n",
    "    if (valid_losses[-1] < best_validation_loss) :\n",
    "        best_validation_loss = valid_losses[-1]\n",
    "        best_model = deepcopy(model)\n",
    "\n",
    "print(best_validation_loss)\n",
    "print(train_losses)\n",
    "print(valid_losses)"
   ]
  },
  {
   "cell_type": "code",
   "execution_count": null,
   "outputs": [],
   "source": [
    "import matplotlib.pyplot as plt\n",
    "plt.plot(train_losses)\n",
    "plt.plot(valid_losses)"
   ],
   "metadata": {
    "collapsed": false
   }
  },
  {
   "cell_type": "markdown",
   "source": [
    "## Evaluation (1 point)\n",
    "\n",
    "* **\\[1 point\\]** Compute the accuracy for all 3 splits."
   ],
   "metadata": {
    "collapsed": false
   }
  },
  {
   "cell_type": "code",
   "execution_count": null,
   "id": "a4544dfd-7567-4bea-b484-490b6a7b74e4",
   "metadata": {},
   "outputs": [],
   "source": [
    "def accuracy_computing(generator,X):\n",
    "    model.eval()\n",
    "    accuracy = 0\n",
    "    with torch.no_grad():\n",
    "        for batch_X, batch_Y in generator():\n",
    "            logits = model(batch_X).squeeze()\n",
    "            predictions = (logits > 0.5)\n",
    "            accuracy += (predictions.int() == batch_Y).int().sum().item()\n",
    "    accuracy /= (3 * 32)\n",
    "    return accuracy"
   ]
  },
  {
   "cell_type": "code",
   "execution_count": null,
   "outputs": [],
   "source": [
    "train_accuracy = accuracy_computing(train_gen, X_train)"
   ],
   "metadata": {
    "collapsed": false
   }
  },
  {
   "cell_type": "code",
   "execution_count": null,
   "outputs": [],
   "source": [
    "train_accuracy"
   ],
   "metadata": {
    "collapsed": false
   }
  },
  {
   "cell_type": "markdown",
   "source": [],
   "metadata": {
    "collapsed": false
   }
  }
 ],
 "metadata": {
  "kernelspec": {
   "display_name": "Python 3 (ipykernel)",
   "language": "python",
   "name": "python3"
  },
  "language_info": {
   "codemirror_mode": {
    "name": "ipython",
    "version": 3
   },
   "file_extension": ".py",
   "mimetype": "text/x-python",
   "name": "python",
   "nbconvert_exporter": "python",
   "pygments_lexer": "ipython3",
   "version": "3.10.4"
  }
 },
 "nbformat": 4,
 "nbformat_minor": 5
}
